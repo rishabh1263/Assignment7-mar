{
 "cells": [
  {
   "cell_type": "markdown",
   "id": "ef9d029f",
   "metadata": {},
   "source": [
    "Q1. What are the three measures of central tendency?\n",
    "\n",
    "There are three main measures of central tendency: mode. median. mean.\n"
   ]
  },
  {
   "cell_type": "markdown",
   "id": "18da4b7e",
   "metadata": {},
   "source": [
    "##Q2:\n",
    "The 3 most common measures of central tendency are the mean, median and mode. The mode is the most frequent value. The median is the middle number in an ordered data set. The mean is the sum of all values divided by the total number of values."
   ]
  },
  {
   "cell_type": "markdown",
   "id": "3b6e886d",
   "metadata": {},
   "source": [
    "##Q3:\n",
    "MEAN = 177\n",
    "MEDIAN = 179\n",
    "MODE = 177"
   ]
  },
  {
   "cell_type": "markdown",
   "id": "7c812550",
   "metadata": {},
   "source": [
    "##Q4:\n",
    "STD = 1.7885814036548633"
   ]
  },
  {
   "cell_type": "markdown",
   "id": "22916dad",
   "metadata": {},
   "source": [
    "##Q5:\n",
    "o to:\n",
    "INTRODUCTION\n",
    "The measures of central tendency are not adequate to describe data. Two data sets can have the same mean but they can be entirely different. Thus to describe data, one needs to know the extent of variability. This is given by the measures of dispersion. Range, interquartile range, and standard deviation are the three commonly used measures of dispersion.\n",
    "\n",
    "Go to:\n",
    "RANGE\n",
    "The range is the difference between the largest and the smallest observation in the data. The prime advantage of this measure of dispersion is that it is easy to calculate. On the other hand, it has lot of disadvantages. It is very sensitive to outliers and does not use all the observations in a data set.[1] It is more informative to provide the minimum and the maximum values rather than providing the range.\n",
    "\n",
    "Go to:\n",
    "INTERQUARTILE RANGE\n",
    "Interquartile range is defined as the difference between the 25th and 75th percentile (also called the first and third quartile). Hence the interquartile range describes the middle 50% of observations. If the interquartile range is large it means that the middle 50% of observations are spaced wide apart. The important advantage of interquartile range is that it can be used as a measure of variability if the extreme values are not being recorded exactly (as in case of open-ended class intervals in the frequency distribution).[2] Other advantageous feature is that it is not affected by extreme values. The main disadvantage in using interquartile range as a measure of dispersion is that it is not amenable to mathematical manipulation.\n",
    "\n",
    "Go to:\n",
    "STANDARD DEVIATION\n",
    "Standard deviation (SD) is the most commonly used measure of dispersion. It is a measure of spread of data about the mean. SD is the square root of sum of squared deviation from the mean divided by the number of observations.\n",
    "\n",
    "An external file that holds a picture, illustration, etc.\n",
    "Object name is JPP-2-315-g001.jpg\n",
    "\n",
    "This formula is a definitional one and for calculations, an easier formula is used. The computational formula also avoids the rounding errors during calculation.\n",
    "\n",
    "An external file that holds a picture, illustration, etc.\n",
    "Object name is JPP-2-315-g002.jpg\n",
    "\n",
    "In both these formulas n - 1 is used instead of n in the denominator, as this produces a more accurate estimate of population SD.\n",
    "\n",
    "The reason why SD is a very useful measure of dispersion is that, if the observations are from a normal distribution, then[3] 68% of observations lie between mean ± 1 SD 95% of observations lie between mean ± 2 SD and 99.7% of observations lie between mean ± 3 SD\n",
    "\n",
    "The other advantage of SD is that along with mean it can be used to detect skewness. The disadvantage of SD is that it is an inappropriate measure of dispersion for skewed data."
   ]
  },
  {
   "cell_type": "markdown",
   "id": "f62143a9",
   "metadata": {},
   "source": [
    "A Venn diagram is an illustration that uses circles to show the relationships among things or finite groups of things. Circles that overlap have a commonality while circles that do not overlap do not share those traits.\n",
    "\n",
    "Venn diagrams help to visually represent the similarities and differences between two concepts. They have long been recognized for their usefulness as educational tools. Since the mid-20th century, Venn diagrams have been used as part of the introductory logic curriculum and in elementary-level educational plans around the world.\n",
    "\n",
    "KEY TAKEAWAYS\n",
    "A Venn diagram uses circles that overlap or don't overlap to show the commonalities and differences among things or groups of things.\n",
    "Things that have commonalities are shown as overlapping circles while things that are distinct stand alone.\n",
    "Venn diagrams are now used as illustrations in business and in many academic fields.\n",
    "Understanding Venn Diagrams\n",
    "Venn diagrams are useful for illustrating how different concepts or factors intersect with one another. They can show, at a glance, how things are similar or different and where and how they overlap. Often, the center of a Venn diagram (the intersection of two or more circles) represents some nexus or main idea that can be decomposed into the various other circles, with labels on the outer portions more general and distinct ideas than those toward the center.\n",
    "\n",
    "The overlapping areas can also be used to show where two otherwise disparate contexts share commonalities. For instance, in the example diagram below we see that while the urban and rural contexts are distinct with their own set of acivities, they also do share sporting events.\n",
    "\n",
    "Venn Diagram\n",
    "Venn Diagram (click to enlarge). Grace Fleming\n",
    "Venn Diagram Components\n",
    "While there are many ways to organize a Venn diagram, they most often consist of overlapping circles. Each circle by itself represents a set, which may include ideas, concepts, numbers, or objects.\n",
    "\n",
    "When circles overlap or intersect, those sub-sets that are shared are known as a union or intersection. Areas that don't overlap show differences between sets, and a complement set refers to everything not shared by a particular set or sub-set.\n",
    "\n",
    "The History and Origin of Venn Diagrams\n",
    "The English logician John Venn popularized the diagram in the 1880s.\n",
    "1\n",
    " He called them Eulerian circles after the Swiss mathematician Leonard Euler, who created similar diagrams in the 1700s.\n",
    "2\n",
    "\n",
    "The term Venn diagram did not appear until 1918 when Clarence Lewis, an American academic philosopher and the eventual founder of conceptual pragmatism, referred to the circular depiction as the Venn diagram in his book A Survey of Symbolic Logic.\n",
    "3\n",
    "\n",
    "Venn studied and taught logic and probability theory at Cambridge University, where he developed his method of using diagrams to illustrate the branch of mathematics known as set theory. He published a precedent-setting work, The Logic of Chance, which explained the frequency theory of probability.\n",
    "4\n",
    " In it, he argued that probability, contrary to popular assumption, should be established based on the regularity with which something is predicted to occur. In another book, Symbolic Logic, Venn built on and developed mathematician George Boole’s theories on algebra.\n",
    "5\n",
    " This work helped him develop the Venn diagram.\n",
    "\n",
    " Venn diagrams have been used since the mid-20th century in classrooms from the elementary school level to introductory logic.\n",
    "Applications for Venn Diagrams\n",
    "Venn diagrams are used to depict how items relate to each other against an overall backdrop, universe, data set, or environment. A Venn diagram could be used, for example, to compare two companies within the same industry by illustrating the products both companies offer (where circles overlap) and the products that are exclusive to each company (outer circles). \n",
    "\n",
    "Venn diagrams are, at a basic level, simple pictorial representations of the relationship that exists between two sets of things. However, they can be much more complex. Still, the streamlined purpose of the Venn diagram to illustrate concepts and groups has led to their popularized use in many fields, including statistics, linguistics, logic, education, computer science, and business.\n",
    "\n",
    "Examples of Venn Diagrams\n",
    "A Venn diagram could be drawn to illustrate fruits that come in red or orange colors. Below, we can see that there are orange fruits (circle B) such as persimmons and tangerines while apples and cherries (circle A) come in red colors. Peppers and tomatoes come in both red and orange colors, as represented by the overlapping area of the two circles.\n",
    "\n",
    "Image 1\n",
    "Image by Julie Bang © Investopedia 2020\n",
    "You might also draw a Venn diagram to help decide which of two cars to purchase. The Venn diagram shows the features that are exclusive to each car and the features that both cars have.\n",
    "\n",
    "Below, we see that Car A is a sedan that's powered by gasoline and gets 20 miles per gallon, while Car B is a hybrid, gets 40 miles-per-gallon for mileage, and is a hatchback.\n",
    "\n",
    "Image 2\n",
    "Image by Julie Bang © Investopedia 2020\n",
    "The shaded region where the two circles overlap shows the features that both cars have in common, which include a radio, four doors, Bluetooth capability, and airbags.\n",
    "\n",
    "The Venn diagram graphically conveys the similarities and differences between the two cars to help decide which to purchase.\n",
    "\n",
    "What Is a Venn Diagram in Math?\n",
    "A Venn diagram in math is used in logic theory and set theory to show various sets or data and their relationship with each other.\n",
    "\n",
    "How Do You Read a Venn Diagram?\n",
    "A Venn diagram is read by observing all of the circles that make up the entire diagram. Each circle is its own item or data set. The portions of the circles that overlap indicate the areas that are in common amongst the different items whereas the parts that do not overlap indicate unique traits among the item or data set represented by the circle.\n",
    "\n",
    "Why Are They Called Venn Diagrams?\n",
    "They are called Venn diagrams because the diagram was developed by John Venn, an English logician.\n",
    "\n",
    "What Is the Middle of a Venn Diagram Called?\n",
    "The middle of a Venn diagram where two or more sets overlap is known as the intersection.\n",
    "\n",
    "Does a Venn Diagram Always Use 2 or 3 Circles?\n",
    "While often employing a pair or triplet of circles, Venn diagram can use any number of circles (or any other shape) to show the differences and intersections of different sets.\n",
    "\n",
    "ARTICLE SOURCES\n"
   ]
  },
  {
   "cell_type": "markdown",
   "id": "2024f974",
   "metadata": {},
   "source": [
    "ANS:\n",
    " (i) A B\n",
    "{2,6}\n",
    "(ii) A ⋃ B\n",
    "{0,2,3,4,5,6,7,8}\n"
   ]
  },
  {
   "cell_type": "markdown",
   "id": "f0e31e96",
   "metadata": {},
   "source": [
    "Skewness is a measure of the asymmetry of a distribution. A distribution is asymmetrical when its left and right side are not mirror images. You might want to calculate the skewness of a distribution to: Describe the distribution of a variable alongside other descriptive statistics"
   ]
  },
  {
   "cell_type": "markdown",
   "id": "577de3ac",
   "metadata": {},
   "source": [
    "Q9. If a data is right skewed then what will be the position of median with respect to mean?\n",
    "\n",
    "If the distribution of data is skewed to the right, the mode is often less than the median, which is less than the mean. Skewness and symmetry become important when we discuss probability distributions in later chapters."
   ]
  },
  {
   "cell_type": "markdown",
   "id": "1c979b63",
   "metadata": {},
   "source": [
    "Covariance is an indicator of the extent to which 2 random variables are dependent on each other. A higher number denotes higher dependency. Correlation is a statistical measure that indicates how strongly two variables are related. The value of covariance lies in the range of -∞ and +∞"
   ]
  },
  {
   "cell_type": "markdown",
   "id": "7f6ed099",
   "metadata": {},
   "source": [
    "The general formula for calculating the sample mean is given by x̄ = ( Σ xi ) / n. Here, x̄ represents the sample mean, xi refers all X sample values and n stands for the number of sample terms in the data set.\n"
   ]
  },
  {
   "cell_type": "markdown",
   "id": "7678f31c",
   "metadata": {},
   "source": [
    "Any normal distribution has a graph that is perfectly symmetric about a vertical line through its peak. Therefore, all measures of central tendency (most commonly, the mean, median, and mode) give the same answer: the x -value of the peak"
   ]
  },
  {
   "cell_type": "markdown",
   "id": "6a94eb4f",
   "metadata": {},
   "source": [
    "Covariance and correlation are two terms that are opposed and are both used in statistics and regression analysis. Covariance shows you how the two variables differ, whereas correlation shows you how the two variables are related."
   ]
  },
  {
   "cell_type": "markdown",
   "id": "1b32eaeb",
   "metadata": {},
   "source": [
    "When a outlier is present it can effect the shape of the graph, if we have outliers to the right of the graph. These outliers are causing the mean to increase, but if we have outliers to the left of the graph these outliers are dragging down the mean. This causes a conflict because the mean no longer provides a good representation of the data, alternatively we would much rather use the median. The median on the other hand is less likely to be affect by outliers."
   ]
  }
 ],
 "metadata": {
  "kernelspec": {
   "display_name": "Python 3 (ipykernel)",
   "language": "python",
   "name": "python3"
  },
  "language_info": {
   "codemirror_mode": {
    "name": "ipython",
    "version": 3
   },
   "file_extension": ".py",
   "mimetype": "text/x-python",
   "name": "python",
   "nbconvert_exporter": "python",
   "pygments_lexer": "ipython3",
   "version": "3.9.13"
  }
 },
 "nbformat": 4,
 "nbformat_minor": 5
}
